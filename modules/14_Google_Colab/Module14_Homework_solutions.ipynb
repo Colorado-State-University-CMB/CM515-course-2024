{
  "nbformat": 4,
  "nbformat_minor": 0,
  "metadata": {
    "colab": {
      "provenance": []
    },
    "kernelspec": {
      "name": "python3",
      "display_name": "Python 3"
    },
    "language_info": {
      "name": "python"
    }
  },
  "cells": [
    {
      "cell_type": "code",
      "execution_count": null,
      "metadata": {
        "colab": {
          "base_uri": "https://localhost:8080/"
        },
        "id": "jviYcubNtZdz",
        "outputId": "104a529b-3ab0-480f-a010-e30cc7467379"
      },
      "outputs": [
        {
          "output_type": "execute_result",
          "data": {
            "text/plain": [
              "[2, 4, 6, 4, 10, 12, 6, 4, 2]"
            ]
          },
          "metadata": {},
          "execution_count": 38
        }
      ],
      "source": [
        "## Homework Questions\n",
        "# 1. Convert the following code into a loop\n",
        "\n",
        "x = [1,1,2,3,2,5,6,7,8]\n",
        "\n",
        "x[8] = x[0] * 2\n",
        "x[0] = x[1] * 2\n",
        "x[1] = x[2] * 2\n",
        "x[2] = x[3] * 2\n",
        "x[3] = x[4] * 2\n",
        "x[4] = x[5] * 2\n",
        "x[5] = x[6] * 2\n",
        "x[7] = x[8] * 2\n",
        "\n",
        "x"
      ]
    },
    {
      "cell_type": "code",
      "source": [
        "x = [1,1,2,3,2,5,6,7,8]\n",
        "for i in range(-1, len(x)-1):\n",
        "  if i == 6:\n",
        "    continue\n",
        "  x[i] = x[i+1] * 2\n",
        "x"
      ],
      "metadata": {
        "colab": {
          "base_uri": "https://localhost:8080/"
        },
        "id": "gPkcubGDnM7B",
        "outputId": "ecc876e4-e67a-427f-92e3-d49edfb24b4f"
      },
      "execution_count": null,
      "outputs": [
        {
          "output_type": "execute_result",
          "data": {
            "text/plain": [
              "[2, 4, 6, 4, 10, 12, 6, 4, 2]"
            ]
          },
          "metadata": {},
          "execution_count": 39
        }
      ]
    },
    {
      "cell_type": "code",
      "source": [
        "# 2. load in the GAPDH template strant from the fasta provided here https://github.com/Colorado-State-University-CMB/CM515-course-2024/tree/main/modules/14_Google_Colab\n",
        "\n",
        "!git clone https://github.com/Colorado-State-University-CMB/CM515-course-2024.git\n",
        "\n"
      ],
      "metadata": {
        "id": "UjGLWNLqt29c",
        "colab": {
          "base_uri": "https://localhost:8080/"
        },
        "outputId": "7ac02e22-cea8-4e8d-c155-675453b92d37"
      },
      "execution_count": null,
      "outputs": [
        {
          "output_type": "stream",
          "name": "stdout",
          "text": [
            "fatal: destination path 'CM515-course-2024' already exists and is not an empty directory.\n"
          ]
        }
      ]
    },
    {
      "cell_type": "code",
      "source": [
        "path = \"/content/CM515-course-2024/modules/14_Google_Colab/\"\n",
        "with open(path + 'gapdh.fasta', 'r') as f:\n",
        "  f_str = f.readlines()\n",
        "gapdh_seq = f_str[1]\n",
        "gapdh_seq"
      ],
      "metadata": {
        "colab": {
          "base_uri": "https://localhost:8080/",
          "height": 89
        },
        "id": "Qn9MB-KjoTaW",
        "outputId": "9d681efe-0917-4891-e590-71eb077b21cd"
      },
      "execution_count": null,
      "outputs": [
        {
          "output_type": "execute_result",
          "data": {
            "text/plain": [
              "'GGTGGGTGCAGCGAACTTTATTGATGGTATTCAAGAGAGTAGGGAGGGCTCCCTAGGCCCCTCCTGTTATTATGGGGGTCTGGGATGGAAATTGTGAGGGAGATGCTCAGTGTTGGGGGCCGAGTTGGGATAGGGCCTCTCTTGCTCAGTGTCCTTGCTGGGGTGGGTGGTCCAGGGTTTCTTACTCCTTGGAGGCCATGTAGGCCATGAGGTCCACCACCCTGTTGCTGTAGCCGTATTCATTGTCATACCAGGAAATGAGCTTGACAAAGTTGTCATTGAGAGCAATGCCAGCCCCGGCATCGAAGGTGGAAGAGTGGGAGTTGCTGTTGAAGTCGCAGGAGACAACCTGGTCCTCAGTGTAGCCCAAGATGCCCTTCAGTGGGCCCTCAGATGCCTGCTTCCCATTCTCGGCCTTGACTGTGCCGTTGAATTTGCCGTGAGTGGAGTCATACTGGAACATGTAGACCATGTAGTTGAGGTCAATGAAGGGGTCGTTGATGGCAACAATCTCCACTTTGCCACTGCAAATGGCAGCCCTGGTGACCAGGCGCCCAATACGGCCAAATCCGTTCACACCGACCTTCACCATTTTGTCCCTCGTGCC'"
            ],
            "application/vnd.google.colaboratory.intrinsic+json": {
              "type": "string"
            }
          },
          "metadata": {},
          "execution_count": 41
        }
      ]
    },
    {
      "cell_type": "code",
      "source": [
        "# 3. calculate the GC content of the strant (report as a percenatage)\n",
        "GC_content = ( sum([1 for x in gapdh_seq if x == \"G\" or x == \"C\"])/len(gapdh_seq) ) * 100\n",
        "print(f\"The GC content is {GC_content} %\")"
      ],
      "metadata": {
        "id": "rDTwXprCt3BC",
        "colab": {
          "base_uri": "https://localhost:8080/"
        },
        "outputId": "3f748f95-c2a3-41ed-8993-ab0d15d4f9cd"
      },
      "execution_count": null,
      "outputs": [
        {
          "output_type": "stream",
          "name": "stdout",
          "text": [
            "The GC content is 54.36573311367381 %\n"
          ]
        }
      ]
    },
    {
      "cell_type": "code",
      "source": [
        "# 4. Create a function that takes in a dna sequence and finds the reverse compliment of it\n",
        "DNA_Table = {\n",
        "    \"A\":\"T\",\n",
        "    \"G\":\"C\",\n",
        "    \"C\":\"G\",\n",
        "    \"T\":\"A\"\n",
        "}\n",
        "def rev_compliment(seq):\n",
        "  rev_comp = \"\"\n",
        "  for s in seq:\n",
        "    rev_comp = DNA_Table[s] + rev_comp\n",
        "  return rev_comp\n",
        "\n",
        "\n"
      ],
      "metadata": {
        "id": "j-3QxgN9t3Es"
      },
      "execution_count": null,
      "outputs": []
    },
    {
      "cell_type": "code",
      "source": [
        "# 5. Convert the GAPDH template strand to the coding strand\n",
        "\n",
        "gapdh_rseq = rev_compliment(gapdh_seq)"
      ],
      "metadata": {
        "id": "Zmgg9BzGt3IK"
      },
      "execution_count": null,
      "outputs": []
    },
    {
      "cell_type": "code",
      "source": [
        "gapdh_rseq"
      ],
      "metadata": {
        "colab": {
          "base_uri": "https://localhost:8080/",
          "height": 89
        },
        "id": "mH9oo0iopquK",
        "outputId": "38cc256e-d442-4522-e2a9-db45c1bd4a6e"
      },
      "execution_count": null,
      "outputs": [
        {
          "output_type": "execute_result",
          "data": {
            "text/plain": [
              "'GGCACGAGGGACAAAATGGTGAAGGTCGGTGTGAACGGATTTGGCCGTATTGGGCGCCTGGTCACCAGGGCTGCCATTTGCAGTGGCAAAGTGGAGATTGTTGCCATCAACGACCCCTTCATTGACCTCAACTACATGGTCTACATGTTCCAGTATGACTCCACTCACGGCAAATTCAACGGCACAGTCAAGGCCGAGAATGGGAAGCAGGCATCTGAGGGCCCACTGAAGGGCATCTTGGGCTACACTGAGGACCAGGTTGTCTCCTGCGACTTCAACAGCAACTCCCACTCTTCCACCTTCGATGCCGGGGCTGGCATTGCTCTCAATGACAACTTTGTCAAGCTCATTTCCTGGTATGACAATGAATACGGCTACAGCAACAGGGTGGTGGACCTCATGGCCTACATGGCCTCCAAGGAGTAAGAAACCCTGGACCACCCACCCCAGCAAGGACACTGAGCAAGAGAGGCCCTATCCCAACTCGGCCCCCAACACTGAGCATCTCCCTCACAATTTCCATCCCAGACCCCCATAATAACAGGAGGGGCCTAGGGAGCCCTCCCTACTCTCTTGAATACCATCAATAAAGTTCGCTGCACCCACC'"
            ],
            "application/vnd.google.colaboratory.intrinsic+json": {
              "type": "string"
            }
          },
          "metadata": {},
          "execution_count": 45
        }
      ]
    },
    {
      "cell_type": "code",
      "source": [
        "# 6. convert to the mRNA sequence\n",
        "\n",
        "gapdh_mrna = gapdh_rseq.replace(\"T\", \"U\")\n",
        "gapdh_mrna"
      ],
      "metadata": {
        "id": "kOCFY42Qt3K8",
        "colab": {
          "base_uri": "https://localhost:8080/",
          "height": 89
        },
        "outputId": "3633645f-3dc2-4d9d-b08c-da7dfb52ee50"
      },
      "execution_count": null,
      "outputs": [
        {
          "output_type": "execute_result",
          "data": {
            "text/plain": [
              "'GGCACGAGGGACAAAAUGGUGAAGGUCGGUGUGAACGGAUUUGGCCGUAUUGGGCGCCUGGUCACCAGGGCUGCCAUUUGCAGUGGCAAAGUGGAGAUUGUUGCCAUCAACGACCCCUUCAUUGACCUCAACUACAUGGUCUACAUGUUCCAGUAUGACUCCACUCACGGCAAAUUCAACGGCACAGUCAAGGCCGAGAAUGGGAAGCAGGCAUCUGAGGGCCCACUGAAGGGCAUCUUGGGCUACACUGAGGACCAGGUUGUCUCCUGCGACUUCAACAGCAACUCCCACUCUUCCACCUUCGAUGCCGGGGCUGGCAUUGCUCUCAAUGACAACUUUGUCAAGCUCAUUUCCUGGUAUGACAAUGAAUACGGCUACAGCAACAGGGUGGUGGACCUCAUGGCCUACAUGGCCUCCAAGGAGUAAGAAACCCUGGACCACCCACCCCAGCAAGGACACUGAGCAAGAGAGGCCCUAUCCCAACUCGGCCCCCAACACUGAGCAUCUCCCUCACAAUUUCCAUCCCAGACCCCCAUAAUAACAGGAGGGGCCUAGGGAGCCCUCCCUACUCUCUUGAAUACCAUCAAUAAAGUUCGCUGCACCCACC'"
            ],
            "application/vnd.google.colaboratory.intrinsic+json": {
              "type": "string"
            }
          },
          "metadata": {},
          "execution_count": 46
        }
      ]
    },
    {
      "cell_type": "code",
      "source": [
        "# 7. Translate the mRNA\n",
        "# make a function that finds the start codon (AUG), then translates the protein until a stop codon is reached.\n",
        "# stop codons are denoted as \"*\" in the codon table file provided\n",
        "\n",
        "with open(path + 'codon_table.csv', 'r') as f:\n",
        "  f_str = f.read()\n",
        "f_str\n",
        "f_list = f_str.split(\"\\n\")\n",
        "f_list\n",
        "f_list = [x.split(\",\") for x in f_list]\n",
        "f_list\n",
        "codontab = dict(f_list)\n",
        "\n",
        "def translate_mrna(mRNA):\n",
        "  for i in range(len(mRNA)):\n",
        "    if mRNA[i:i+3] == \"AUG\":\n",
        "      break\n",
        "  prot = \"\"\n",
        "  for j in range(i, len(mRNA), 3 ):\n",
        "    if codontab[mRNA[j:j+3]] == \"*\":\n",
        "      break\n",
        "    else:\n",
        "      prot += codontab[mRNA[j:j+3]]\n",
        "\n",
        "  return prot"
      ],
      "metadata": {
        "id": "cUEL3pVqt3PJ"
      },
      "execution_count": null,
      "outputs": []
    },
    {
      "cell_type": "code",
      "source": [
        "translate_mrna(gapdh_mrna)"
      ],
      "metadata": {
        "colab": {
          "base_uri": "https://localhost:8080/",
          "height": 35
        },
        "id": "9ziiofpoquKU",
        "outputId": "c6e3c4ae-36f6-4ae0-bec5-cdc243adcc6f"
      },
      "execution_count": null,
      "outputs": [
        {
          "output_type": "execute_result",
          "data": {
            "text/plain": [
              "'MVKVGVNGFGRIGRLVTRAAICSGKVEIVAINDPFIDLNYMVYMFQYDSTHGKFNGTVKAENGKQASEGPLKGILGYTEDQVVSCDFNSNSHSSTFDAGAGIALNDNFVKLISWYDNEYGYSNRVVDLMAYMASKE'"
            ],
            "application/vnd.google.colaboratory.intrinsic+json": {
              "type": "string"
            }
          },
          "metadata": {},
          "execution_count": 48
        }
      ]
    },
    {
      "cell_type": "code",
      "source": [],
      "metadata": {
        "id": "HBe4nlhkquM4"
      },
      "execution_count": null,
      "outputs": []
    },
    {
      "cell_type": "code",
      "source": [],
      "metadata": {
        "id": "mPj5CKB9quO_"
      },
      "execution_count": null,
      "outputs": []
    },
    {
      "cell_type": "code",
      "source": [
        "# 8. Go to this website, select 2 problems and complete them https://rosalind.info/problems/list-view/"
      ],
      "metadata": {
        "id": "K6jGkxf2t3Sh"
      },
      "execution_count": null,
      "outputs": []
    }
  ]
}